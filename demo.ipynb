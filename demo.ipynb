{
 "cells": [
  {
   "cell_type": "code",
   "execution_count": 10,
   "metadata": {
    "collapsed": false
   },
   "outputs": [
    {
     "name": "stdout",
     "output_type": "stream",
     "text": [
      "done!\n"
     ]
    }
   ],
   "source": [
    "%matplotlib inline\n",
    "import pandas as pd\n",
    "import numpy as np\n",
    "import requests\n",
    "print('done!')"
   ]
  },
  {
   "cell_type": "code",
   "execution_count": 11,
   "metadata": {
    "collapsed": false
   },
   "outputs": [],
   "source": [
    "data_url = 'https://s3.amazonaws.com/labour-statistics-dataset/cd/cd.series.gz'\n",
    "r = requests.get(data_url)\n",
    "\n"
   ]
  },
  {
   "cell_type": "code",
   "execution_count": 13,
   "metadata": {
    "collapsed": false
   },
   "outputs": [
    {
     "name": "stdout",
     "output_type": "stream",
     "text": [
      "(392589, 19)\n"
     ]
    },
    {
     "data": {
      "text/html": [
       "<div>\n",
       "<table border=\"1\" class=\"dataframe\">\n",
       "  <thead>\n",
       "    <tr style=\"text-align: right;\">\n",
       "      <th></th>\n",
       "      <th>series_id</th>\n",
       "      <th>category_code</th>\n",
       "      <th>datatype_code</th>\n",
       "      <th>case_code</th>\n",
       "      <th>age_code</th>\n",
       "      <th>los_code</th>\n",
       "      <th>race_code</th>\n",
       "      <th>gender_code</th>\n",
       "      <th>pob_code</th>\n",
       "      <th>event_code</th>\n",
       "      <th>source_code</th>\n",
       "      <th>occupation_code</th>\n",
       "      <th>nature_code</th>\n",
       "      <th>industry_code</th>\n",
       "      <th>footnote_code</th>\n",
       "      <th>begin_year</th>\n",
       "      <th>begin_period</th>\n",
       "      <th>end_year</th>\n",
       "      <th>end_period</th>\n",
       "    </tr>\n",
       "  </thead>\n",
       "  <tbody>\n",
       "    <tr>\n",
       "      <th>0</th>\n",
       "      <td>CDU00000033</td>\n",
       "      <td>00</td>\n",
       "      <td>3</td>\n",
       "      <td>3</td>\n",
       "      <td>NaN</td>\n",
       "      <td>NaN</td>\n",
       "      <td>NaN</td>\n",
       "      <td>NaN</td>\n",
       "      <td>NaN</td>\n",
       "      <td>NaN</td>\n",
       "      <td>NaN</td>\n",
       "      <td>NaN</td>\n",
       "      <td>NaN</td>\n",
       "      <td>0000</td>\n",
       "      <td></td>\n",
       "      <td>1992</td>\n",
       "      <td>A01</td>\n",
       "      <td>2001</td>\n",
       "      <td>A01</td>\n",
       "    </tr>\n",
       "    <tr>\n",
       "      <th>1</th>\n",
       "      <td>CDU0000003E</td>\n",
       "      <td>00</td>\n",
       "      <td>3</td>\n",
       "      <td>E</td>\n",
       "      <td>NaN</td>\n",
       "      <td>NaN</td>\n",
       "      <td>NaN</td>\n",
       "      <td>NaN</td>\n",
       "      <td>NaN</td>\n",
       "      <td>0000</td>\n",
       "      <td>NaN</td>\n",
       "      <td>NaN</td>\n",
       "      <td>NaN</td>\n",
       "      <td>NaN</td>\n",
       "      <td></td>\n",
       "      <td>1992</td>\n",
       "      <td>A01</td>\n",
       "      <td>2001</td>\n",
       "      <td>A01</td>\n",
       "    </tr>\n",
       "    <tr>\n",
       "      <th>2</th>\n",
       "      <td>CDU0000003N</td>\n",
       "      <td>00</td>\n",
       "      <td>3</td>\n",
       "      <td>N</td>\n",
       "      <td>NaN</td>\n",
       "      <td>NaN</td>\n",
       "      <td>NaN</td>\n",
       "      <td>NaN</td>\n",
       "      <td>NaN</td>\n",
       "      <td>NaN</td>\n",
       "      <td>NaN</td>\n",
       "      <td>NaN</td>\n",
       "      <td>0000</td>\n",
       "      <td>NaN</td>\n",
       "      <td></td>\n",
       "      <td>1992</td>\n",
       "      <td>A01</td>\n",
       "      <td>2001</td>\n",
       "      <td>A01</td>\n",
       "    </tr>\n",
       "    <tr>\n",
       "      <th>3</th>\n",
       "      <td>CDU0000003P</td>\n",
       "      <td>00</td>\n",
       "      <td>3</td>\n",
       "      <td>P</td>\n",
       "      <td>NaN</td>\n",
       "      <td>NaN</td>\n",
       "      <td>NaN</td>\n",
       "      <td>NaN</td>\n",
       "      <td>0000</td>\n",
       "      <td>NaN</td>\n",
       "      <td>NaN</td>\n",
       "      <td>NaN</td>\n",
       "      <td>NaN</td>\n",
       "      <td>NaN</td>\n",
       "      <td></td>\n",
       "      <td>1992</td>\n",
       "      <td>A01</td>\n",
       "      <td>2001</td>\n",
       "      <td>A01</td>\n",
       "    </tr>\n",
       "    <tr>\n",
       "      <th>4</th>\n",
       "      <td>CDU0000003S</td>\n",
       "      <td>00</td>\n",
       "      <td>3</td>\n",
       "      <td>S</td>\n",
       "      <td>NaN</td>\n",
       "      <td>NaN</td>\n",
       "      <td>NaN</td>\n",
       "      <td>NaN</td>\n",
       "      <td>NaN</td>\n",
       "      <td>NaN</td>\n",
       "      <td>0000</td>\n",
       "      <td>NaN</td>\n",
       "      <td>NaN</td>\n",
       "      <td>NaN</td>\n",
       "      <td></td>\n",
       "      <td>1992</td>\n",
       "      <td>A01</td>\n",
       "      <td>2001</td>\n",
       "      <td>A01</td>\n",
       "    </tr>\n",
       "  </tbody>\n",
       "</table>\n",
       "</div>"
      ],
      "text/plain": [
       "           series_id category_code  datatype_code case_code age_code los_code  \\\n",
       "0  CDU00000033                  00              3         3      NaN      NaN   \n",
       "1  CDU0000003E                  00              3         E      NaN      NaN   \n",
       "2  CDU0000003N                  00              3         N      NaN      NaN   \n",
       "3  CDU0000003P                  00              3         P      NaN      NaN   \n",
       "4  CDU0000003S                  00              3         S      NaN      NaN   \n",
       "\n",
       "  race_code gender_code pob_code event_code source_code occupation_code  \\\n",
       "0       NaN         NaN      NaN        NaN         NaN             NaN   \n",
       "1       NaN         NaN      NaN       0000         NaN             NaN   \n",
       "2       NaN         NaN      NaN        NaN         NaN             NaN   \n",
       "3       NaN         NaN     0000        NaN         NaN             NaN   \n",
       "4       NaN         NaN      NaN        NaN        0000             NaN   \n",
       "\n",
       "  nature_code industry_code footnote_code  begin_year begin_period  end_year  \\\n",
       "0         NaN          0000                      1992          A01      2001   \n",
       "1         NaN           NaN                      1992          A01      2001   \n",
       "2        0000           NaN                      1992          A01      2001   \n",
       "3         NaN           NaN                      1992          A01      2001   \n",
       "4         NaN           NaN                      1992          A01      2001   \n",
       "\n",
       "  end_period  \n",
       "0        A01  \n",
       "1        A01  \n",
       "2        A01  \n",
       "3        A01  \n",
       "4        A01  "
      ]
     },
     "execution_count": 13,
     "metadata": {},
     "output_type": "execute_result"
    }
   ],
   "source": [
    "\n",
    "col_dtypes = {'age_code':'object', 'los_code':'object', 'race':'object'}\n",
    "data_url = 'https://s3.amazonaws.com/labour-statistics-dataset/cd/cd.series.gz'\n",
    "\n",
    "injuries = pd.read_table(data_url, dtype=col_dtypes, compression='gzip', low_memory=False)\n",
    "\n",
    "print(injuries.shape)\n",
    "\n",
    "injuries.head()\n",
    "\n"
   ]
  },
  {
   "cell_type": "code",
   "execution_count": 7,
   "metadata": {
    "collapsed": false
   },
   "outputs": [
    {
     "data": {
      "text/html": [
       "<div>\n",
       "<table border=\"1\" class=\"dataframe\">\n",
       "  <thead>\n",
       "    <tr style=\"text-align: right;\">\n",
       "      <th></th>\n",
       "      <th>race_code</th>\n",
       "      <th>race_text</th>\n",
       "    </tr>\n",
       "  </thead>\n",
       "  <tbody>\n",
       "    <tr>\n",
       "      <th>0</th>\n",
       "      <td>0000</td>\n",
       "      <td>All races</td>\n",
       "    </tr>\n",
       "    <tr>\n",
       "      <th>1</th>\n",
       "      <td>1XXX</td>\n",
       "      <td>White, non-Hispanic</td>\n",
       "    </tr>\n",
       "    <tr>\n",
       "      <th>2</th>\n",
       "      <td>2XXX</td>\n",
       "      <td>Black, non-Hispanic</td>\n",
       "    </tr>\n",
       "    <tr>\n",
       "      <th>3</th>\n",
       "      <td>3XXX</td>\n",
       "      <td>Hispanic</td>\n",
       "    </tr>\n",
       "    <tr>\n",
       "      <th>4</th>\n",
       "      <td>4XXX</td>\n",
       "      <td>Asian or Pacific Islander</td>\n",
       "    </tr>\n",
       "    <tr>\n",
       "      <th>5</th>\n",
       "      <td>5XXX</td>\n",
       "      <td>American Indian or Alaskan Native</td>\n",
       "    </tr>\n",
       "    <tr>\n",
       "      <th>6</th>\n",
       "      <td>NRXX</td>\n",
       "      <td>Not reported</td>\n",
       "    </tr>\n",
       "  </tbody>\n",
       "</table>\n",
       "</div>"
      ],
      "text/plain": [
       "  race_code                          race_text\n",
       "0      0000                          All races\n",
       "1      1XXX                White, non-Hispanic\n",
       "2      2XXX                Black, non-Hispanic\n",
       "3      3XXX                           Hispanic\n",
       "4      4XXX          Asian or Pacific Islander\n",
       "5      5XXX  American Indian or Alaskan Native\n",
       "6      NRXX                       Not reported"
      ]
     },
     "execution_count": 7,
     "metadata": {},
     "output_type": "execute_result"
    }
   ],
   "source": [
    "\n",
    "pd.read_table('https://s3.amazonaws.com/labour-statistics-dataset/cd/cd.race.gz', compression='gzip')\n"
   ]
  },
  {
   "cell_type": "code",
   "execution_count": 9,
   "metadata": {
    "collapsed": false
   },
   "outputs": [
    {
     "data": {
      "text/html": [
       "<div>\n",
       "<table border=\"1\" class=\"dataframe\">\n",
       "  <thead>\n",
       "    <tr style=\"text-align: right;\">\n",
       "      <th></th>\n",
       "      <th>age_code</th>\n",
       "      <th>age_text</th>\n",
       "    </tr>\n",
       "  </thead>\n",
       "  <tbody>\n",
       "    <tr>\n",
       "      <th>0</th>\n",
       "      <td>0000</td>\n",
       "      <td>All workers</td>\n",
       "    </tr>\n",
       "    <tr>\n",
       "      <th>1</th>\n",
       "      <td>14XX</td>\n",
       "      <td>Under 14</td>\n",
       "    </tr>\n",
       "    <tr>\n",
       "      <th>2</th>\n",
       "      <td>15XX</td>\n",
       "      <td>14 - 15</td>\n",
       "    </tr>\n",
       "    <tr>\n",
       "      <th>3</th>\n",
       "      <td>19XX</td>\n",
       "      <td>16 - 19</td>\n",
       "    </tr>\n",
       "    <tr>\n",
       "      <th>4</th>\n",
       "      <td>24XX</td>\n",
       "      <td>20 - 24</td>\n",
       "    </tr>\n",
       "    <tr>\n",
       "      <th>5</th>\n",
       "      <td>34XX</td>\n",
       "      <td>25 - 34</td>\n",
       "    </tr>\n",
       "    <tr>\n",
       "      <th>6</th>\n",
       "      <td>44XX</td>\n",
       "      <td>35 - 44</td>\n",
       "    </tr>\n",
       "    <tr>\n",
       "      <th>7</th>\n",
       "      <td>54XX</td>\n",
       "      <td>45 - 54</td>\n",
       "    </tr>\n",
       "    <tr>\n",
       "      <th>8</th>\n",
       "      <td>64XX</td>\n",
       "      <td>55 - 64</td>\n",
       "    </tr>\n",
       "    <tr>\n",
       "      <th>9</th>\n",
       "      <td>65XX</td>\n",
       "      <td>65 and over</td>\n",
       "    </tr>\n",
       "  </tbody>\n",
       "</table>\n",
       "</div>"
      ],
      "text/plain": [
       "  age_code     age_text\n",
       "0     0000  All workers\n",
       "1     14XX     Under 14\n",
       "2     15XX      14 - 15\n",
       "3     19XX      16 - 19\n",
       "4     24XX      20 - 24\n",
       "5     34XX      25 - 34\n",
       "6     44XX      35 - 44\n",
       "7     54XX      45 - 54\n",
       "8     64XX      55 - 64\n",
       "9     65XX  65 and over"
      ]
     },
     "execution_count": 9,
     "metadata": {},
     "output_type": "execute_result"
    }
   ],
   "source": [
    "\n",
    "pd.read_table('https://s3.amazonaws.com/labour-statistics-dataset/cd/cd.age.gz', compression='gzip')\n"
   ]
  },
  {
   "cell_type": "code",
   "execution_count": 6,
   "metadata": {
    "collapsed": false
   },
   "outputs": [
    {
     "data": {
      "text/html": [
       "<div>\n",
       "<table border=\"1\" class=\"dataframe\">\n",
       "  <thead>\n",
       "    <tr style=\"text-align: right;\">\n",
       "      <th></th>\n",
       "      <th>los_code</th>\n",
       "      <th>los_text</th>\n",
       "    </tr>\n",
       "  </thead>\n",
       "  <tbody>\n",
       "    <tr>\n",
       "      <th>0</th>\n",
       "      <td>0000</td>\n",
       "      <td>All workers</td>\n",
       "    </tr>\n",
       "    <tr>\n",
       "      <th>1</th>\n",
       "      <td>1XXX</td>\n",
       "      <td>Less than 3 months</td>\n",
       "    </tr>\n",
       "    <tr>\n",
       "      <th>2</th>\n",
       "      <td>2XXX</td>\n",
       "      <td>3 - 11 months</td>\n",
       "    </tr>\n",
       "    <tr>\n",
       "      <th>3</th>\n",
       "      <td>3XXX</td>\n",
       "      <td>1 - 5 years</td>\n",
       "    </tr>\n",
       "    <tr>\n",
       "      <th>4</th>\n",
       "      <td>4XXX</td>\n",
       "      <td>More than 5 years</td>\n",
       "    </tr>\n",
       "    <tr>\n",
       "      <th>5</th>\n",
       "      <td>NRXX</td>\n",
       "      <td>Not reported</td>\n",
       "    </tr>\n",
       "  </tbody>\n",
       "</table>\n",
       "</div>"
      ],
      "text/plain": [
       "  los_code            los_text\n",
       "0     0000         All workers\n",
       "1     1XXX  Less than 3 months\n",
       "2     2XXX       3 - 11 months\n",
       "3     3XXX         1 - 5 years\n",
       "4     4XXX   More than 5 years\n",
       "5     NRXX        Not reported"
      ]
     },
     "execution_count": 6,
     "metadata": {},
     "output_type": "execute_result"
    }
   ],
   "source": [
    "\n",
    "pd.read_table('https://s3.amazonaws.com/labour-statistics-dataset/cd/cd.los.gz', compression='gzip')\n"
   ]
  },
  {
   "cell_type": "code",
   "execution_count": 12,
   "metadata": {
    "collapsed": false
   },
   "outputs": [
    {
     "data": {
      "text/plain": [
       "'https://gist.github.com/0193c2c4cc54dbe1c9d2'"
      ]
     },
     "execution_count": 12,
     "metadata": {},
     "output_type": "execute_result"
    }
   ],
   "source": [
    "% pastebin \"demo.ipynb\""
   ]
  },
  {
   "cell_type": "code",
   "execution_count": null,
   "metadata": {
    "collapsed": true
   },
   "outputs": [],
   "source": []
  }
 ],
 "metadata": {
  "kernelspec": {
   "display_name": "Python 3",
   "language": "python",
   "name": "python3"
  },
  "language_info": {
   "codemirror_mode": {
    "name": "ipython",
    "version": 3
   },
   "file_extension": ".py",
   "mimetype": "text/x-python",
   "name": "python",
   "nbconvert_exporter": "python",
   "pygments_lexer": "ipython3",
   "version": "3.4.3"
  }
 },
 "nbformat": 4,
 "nbformat_minor": 0
}
