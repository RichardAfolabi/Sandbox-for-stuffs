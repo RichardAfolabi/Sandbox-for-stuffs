{
 "cells": [
  {
   "cell_type": "markdown",
   "metadata": {},
   "source": [
    "###  create a class to tell a nurse the frequency of medicine that a patient must take, i.e. a system to tell patients when to take medication and create a class with an object that holds temperatures of a person and can say whether or not they have a fever."
   ]
  },
  {
   "cell_type": "code",
   "execution_count": 61,
   "metadata": {
    "collapsed": false
   },
   "outputs": [],
   "source": [
    "\n",
    "\n",
    "class MediCare(object):\n",
    "    \"\"\" \n",
    "    Class to identify a patient, accept herbody temparature and determine\n",
    "    if the patient has fever or not. Also determine the dosage frequency of a \n",
    "    prescribed drug/medication.\n",
    "    \n",
    "    Attributes:\n",
    "        patient_id : ID of patient to lookup name (integers)\n",
    "        temperature: Body temprature of patient (celcius)\n",
    "    \"\"\"\n",
    "\n",
    "    @classmethod\n",
    "    def is_number(cels):\n",
    "        \"\"\" Checks input temprature for validity\"\"\"\n",
    "        pass\n",
    "\n",
    "    \n",
    "    @staticmethod\n",
    "    def patient_lookup(lname):\n",
    "        \"\"\" Returns the firstname of the patient from database \n",
    "        using a fast binary search log(n) algorithm\n",
    "        \"\"\"\n",
    "\n",
    "        # Some search algorithm\n",
    "        patient_id = 54322\n",
    "        return patient_id \n",
    "\n",
    "\n",
    "    def __init__(self, lastname, temperature):\n",
    "        \"\"\" Returns patient object with name and ID \"\"\"\n",
    "        self.lastname = lastname\n",
    "        self.temperature = temperature\n",
    "        self.patient_id = self.patient_lookup(lastname)\n",
    "\n",
    "        \n",
    "    def temperature(self, in_celsius):\n",
    "        \"\"\" Takes temprature as input of user and determine\n",
    "        if patient has fever or not. Takes temperature in celcius.\n",
    "        \"\"\"\n",
    "        \n",
    "        # Check if input temperature is valid or not\n",
    "        if self.temperature < 0 or is_number(self.temperature):\n",
    "            raise ValueError(\"Invalid temprature input\")\n",
    "        elif self.temperature > 0 and self.temperature < 35.0:\n",
    "            return \"Temprature is too low\"\n",
    "        elif self.temperature > 38.0:\n",
    "            return \"Temperature is too high. Like have fever\"\n",
    "        else: \n",
    "            return \"Body temperature is normal\"\n",
    "\n",
    "\n",
    "        \n",
    "    def medication(self):\n",
    "        \"\"\" Checks up frequency of dosage for patient \"\"\"\n",
    "        \n",
    "        return \"three times each day (3x/day)\"\n",
    "    \n"
   ]
  },
  {
   "cell_type": "code",
   "execution_count": 62,
   "metadata": {
    "collapsed": false
   },
   "outputs": [
    {
     "name": "stdout",
     "output_type": "stream",
     "text": [
      "35 85\n",
      "Robertson Sinclair\n",
      "54322 54322\n"
     ]
    }
   ],
   "source": [
    "# Call the class that creates an object\n",
    "new_patient = MediCare(\"Sinclair\", 35)\n",
    "old_patient = MediCare(\"Robertson\", 85)\n",
    "\n",
    "# Call the functiosn and the attributes\n",
    "\n",
    "print(new_patient.temperature, old_patient.temperature)\n",
    "print(old_patient.lastname, new_patient.lastname)\n",
    "\n",
    "print(new_patient.patient_id, old_patient.patient_id)"
   ]
  },
  {
   "cell_type": "markdown",
   "metadata": {
    "collapsed": false
   },
   "source": [
    "### design a class to store the information of the patients visiting to the hospital., i.e. a class which stores name, address, phone number, male/female, prefix to the name. Also, how will you handle job in case of multiple phone numbers/addresses, multiple locations  (If a person is both at 12 PM in USA on a date, then that date is different from date in India), how will you handle the validations of these fields when the user enters the values."
   ]
  },
  {
   "cell_type": "code",
   "execution_count": null,
   "metadata": {
    "collapsed": true
   },
   "outputs": [],
   "source": []
  },
  {
   "cell_type": "code",
   "execution_count": 66,
   "metadata": {
    "collapsed": false
   },
   "outputs": [
    {
     "name": "stdout",
     "output_type": "stream",
     "text": [
      "\n"
     ]
    },
    {
     "data": {
      "text/plain": [
       "{'address': '9999 Gotham City, las vegas',\n",
       " 'gender': 'male',\n",
       " 'name': 'Ben',\n",
       " 'phone': '702-000-0000',\n",
       " 'prefix': 'Waiter'}"
      ]
     },
     "execution_count": 66,
     "metadata": {},
     "output_type": "execute_result"
    }
   ],
   "source": [
    "# Suppose the number of input arguments in known and no need for dynamic data creation.\n",
    "\n",
    "class Person(object):\n",
    "    \"\"\" Capture demographics data\"\"\"\n",
    "    \n",
    "    \n",
    "#     def __init__(self, **kwargs):\n",
    "        \n",
    "#         for keys in **kwargs.keys()\n",
    "        \n",
    "    \n",
    "    def __init__(self, name, address, phone, gender, name_prefix):\n",
    "        \"\"\" Initialize the object \"\"\"\n",
    "        self.userdata = {'name':name, \n",
    "                         'address': address, \n",
    "                         'phone': phone, \n",
    "                         'gender': gender, \n",
    "                         'prefix': name_prefix\n",
    "                        }\n",
    "        \n",
    "\n",
    "newperson = Person(\"Ben\", '9999 Gotham City, las vegas', '702-000-0000', 'male', 'Waiter')\n",
    "\n",
    "print()\n",
    "newperson.userdata\n",
    "\n"
   ]
  },
  {
   "cell_type": "code",
   "execution_count": 67,
   "metadata": {
    "collapsed": false
   },
   "outputs": [
    {
     "name": "stdout",
     "output_type": "stream",
     "text": [
      "male\n",
      "Waiter\n",
      "Ben\n",
      "['702-000-0000', '413-546-3432']\n",
      "9999 Gotham City, las vegas\n"
     ]
    }
   ],
   "source": [
    "def users(**kwargs):\n",
    "    for key in kwargs.keys():\n",
    "        print(kwargs[key])\n",
    "        \n",
    "users(name=\"Ben\", address='9999 Gotham City, las vegas', \n",
    "      phone=['702-000-0000', '413-546-3432'], \n",
    "      gender='male', prefix='Waiter'\n",
    "     )"
   ]
  },
  {
   "cell_type": "code",
   "execution_count": 100,
   "metadata": {
    "collapsed": false
   },
   "outputs": [
    {
     "data": {
      "text/plain": [
       "{'address': '9999 Gotham City, las vegas',\n",
       " 'gender': 'male',\n",
       " 'name': 'Ben',\n",
       " 'phone': ['702-000-0000', '413-546-3432'],\n",
       " 'prefix': 'Waiter'}"
      ]
     },
     "execution_count": 100,
     "metadata": {},
     "output_type": "execute_result"
    }
   ],
   "source": [
    "# suppose we do NOT know how many data but we want to create dynamic columns or keys:\n",
    "\n",
    "class Person(object):\n",
    "    \"\"\" Capture demographics data\"\"\"\n",
    "    \n",
    "    def __init__(self, **kwargs): \n",
    "        \"\"\" Initialize the object \"\"\"\n",
    "        \n",
    "        keys = sorted(kwargs.keys())\n",
    "        self.userdata = {key:kwargs[key] for key in keys} \n",
    "\n",
    "\n",
    "newperson = Person(name=\"Ben\", address='9999 Gotham City, las vegas', phone=['702-000-0000', '413-546-3432'], gender='male', prefix='Waiter')\n",
    "\n",
    "newperson.userdata\n"
   ]
  },
  {
   "cell_type": "code",
   "execution_count": null,
   "metadata": {
    "collapsed": false
   },
   "outputs": [],
   "source": []
  },
  {
   "cell_type": "code",
   "execution_count": null,
   "metadata": {
    "collapsed": true
   },
   "outputs": [],
   "source": []
  }
 ],
 "metadata": {
  "kernelspec": {
   "display_name": "Python 3",
   "language": "python",
   "name": "python3"
  },
  "language_info": {
   "codemirror_mode": {
    "name": "ipython",
    "version": 3
   },
   "file_extension": ".py",
   "mimetype": "text/x-python",
   "name": "python",
   "nbconvert_exporter": "python",
   "pygments_lexer": "ipython3",
   "version": "3.4.3"
  }
 },
 "nbformat": 4,
 "nbformat_minor": 0
}
