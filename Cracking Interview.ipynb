{
 "cells": [
  {
   "cell_type": "markdown",
   "metadata": {},
   "source": [
    "# Anagrams"
   ]
  },
  {
   "cell_type": "markdown",
   "metadata": {},
   "source": [
    "#### Write a method to decide if two strings are anagrams or not."
   ]
  },
  {
   "cell_type": "code",
   "execution_count": 25,
   "metadata": {
    "collapsed": false
   },
   "outputs": [
    {
     "name": "stdout",
     "output_type": "stream",
     "text": [
      "These are Anagrams!\n",
      "These are Anagrams!\n"
     ]
    }
   ],
   "source": [
    "def anagrams_finder(word1, word2):\n",
    "    \"\"\" Determines if two words are anagrams \"\"\"\n",
    "    \n",
    "    if len(word1) != len(word2):\n",
    "        return \"Unequal length\"\n",
    "    else:\n",
    "        wordlength = len(word1)\n",
    "        for k in range(wordlength - 1):\n",
    "            if word1[k] != word2[wordlength - (k+1)]:\n",
    "                return \"They're are NOT Anagram!\"\n",
    "            # Anagram found if all letters from below and above are same.\n",
    "            return \"These are Anagrams!\"\n",
    "    \n",
    "\n",
    "\n",
    "print(anagrams_finder(\"SCUMY\", \"YMUGS\"))\n",
    "\n",
    "print(anagrams_finder(\"LIVE\", \"EVIL\"))\n"
   ]
  },
  {
   "cell_type": "markdown",
   "metadata": {
    "collapsed": true
   },
   "source": [
    "### Recursion - O(n) "
   ]
  },
  {
   "cell_type": "code",
   "execution_count": 16,
   "metadata": {
    "collapsed": false
   },
   "outputs": [
    {
     "name": "stdout",
     "output_type": "stream",
     "text": [
      "\n",
      " Fibonacci with O(n)\n",
      "(610, 377)\n",
      "CPU times: user 20 µs, sys: 0 ns, total: 20 µs\n",
      "Wall time: 25 µs\n",
      "\n",
      "\n",
      " Fibonacci with exponential complexity 2^(2/n) \n",
      "\n",
      "610\n",
      "CPU times: user 329 µs, sys: 0 ns, total: 329 µs\n",
      "Wall time: 331 µs\n"
     ]
    }
   ],
   "source": [
    "import time\n",
    "\n",
    "def bigO_fibonacci(n):\n",
    "    \"\"\"\n",
    "    Fibonacci with linear complexity\n",
    "    \"\"\"\n",
    "    if n <= 1:\n",
    "        return (n, 0)\n",
    "    else:\n",
    "        (a,b) = bigO_fibonacci(n-1)\n",
    "        return (a+b, a)\n",
    "    \n",
    "\n",
    "\n",
    "def expon_fibonacci(n):\n",
    "    \"\"\" \n",
    "    Fibonacci with exponential complexity\n",
    "    \"\"\"\n",
    "    if n < 2:\n",
    "        return n\n",
    "    else:\n",
    "        return expon_fibonacci(n-2) + expon_fibonacci(n-1)\n",
    "\n",
    "\n",
    "value = 15\n",
    "\n",
    "print(\"\\n Fibonacci with O(n)\")\n",
    "%time print(bigO_fibonacci(value))\n",
    "\n",
    "print(\"\\n\\n Fibonacci with exponential complexity 2^(2/n) \\n\")\n",
    "%time print(expon_fibonacci(value))\n"
   ]
  },
  {
   "cell_type": "code",
   "execution_count": null,
   "metadata": {
    "collapsed": true
   },
   "outputs": [],
   "source": []
  }
 ],
 "metadata": {
  "kernelspec": {
   "display_name": "Python 3",
   "language": "python",
   "name": "python3"
  },
  "language_info": {
   "codemirror_mode": {
    "name": "ipython",
    "version": 3
   },
   "file_extension": ".py",
   "mimetype": "text/x-python",
   "name": "python",
   "nbconvert_exporter": "python",
   "pygments_lexer": "ipython3",
   "version": "3.4.3"
  }
 },
 "nbformat": 4,
 "nbformat_minor": 0
}
