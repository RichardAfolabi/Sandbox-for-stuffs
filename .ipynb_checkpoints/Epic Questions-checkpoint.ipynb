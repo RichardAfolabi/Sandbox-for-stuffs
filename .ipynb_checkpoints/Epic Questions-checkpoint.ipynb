{
 "cells": [
  {
   "cell_type": "markdown",
   "metadata": {},
   "source": [
    "###  create a class to tell a nurse the frequency of medicine that a patient must take, i.e. a system to tell patients when to take medication and create a class with an object that holds temperatures of a person and can say whether or not they have a fever."
   ]
  },
  {
   "cell_type": "code",
   "execution_count": 33,
   "metadata": {
    "collapsed": false
   },
   "outputs": [],
   "source": [
    "\n",
    "\n",
    "class MediCare(object):\n",
    "    \"\"\" \n",
    "    Class to identify a patient, accept herbody temparature and determine\n",
    "    if the patient has fever or not. Also determine the dosage frequency of a \n",
    "    prescribed drug/medication.\n",
    "    \n",
    "    Attributes:\n",
    "        patient_id : ID of patient to lookup name (integers)\n",
    "        temperature: Body temprature of patient (celcius)\n",
    "    \"\"\"\n",
    "\n",
    "    @classmethod\n",
    "    def is_number(cels):\n",
    "        \"\"\" Checks input temprature for validity\"\"\"\n",
    "        pass\n",
    "\n",
    "    \n",
    "    @staticmethod\n",
    "    def patient_lookup(lname):\n",
    "        \"\"\" Returns the firstname of the patient from database \n",
    "        using a fast binary search log(n) algorithm\n",
    "        \"\"\"\n",
    "\n",
    "        # Some search algorithm\n",
    "        patient_id = 54322\n",
    "        return patient_id \n",
    "\n",
    "\n",
    "    def __init__(self, lastname, temperature):\n",
    "        \"\"\" Returns patient object with name and ID \"\"\"\n",
    "        self.lastname = lastname\n",
    "        self.temperature = temperature\n",
    "        self.patient_id = patient_lookup(lastname)\n",
    "\n",
    "        \n",
    "    def temperature(self, in_celsius):\n",
    "        \"\"\" Takes temprature as input of user and determine\n",
    "        if patient has fever or not. Takes temperature in celcius.\n",
    "        \"\"\"\n",
    "        \n",
    "        # Check if input temperature is valid or not\n",
    "        if self.temperature < 0 or is_number(self.temperature):\n",
    "            raise ValueError(\"Invalid temprature input\")\n",
    "        elif self.temperature > 0 and self.temperature < 35.0:\n",
    "            return \"Temprature is too low\"\n",
    "        elif self.temperature > 38.0:\n",
    "            return \"Temperature is too high. Like have fever\"\n",
    "        else: \n",
    "            return \"Body temperature is normal\"\n",
    "\n",
    "\n",
    "        \n",
    "    def medication(self):\n",
    "        \"\"\" Checks up frequency of dosage for patient \"\"\"\n",
    "        \n",
    "        return \"three times each day (3x/day)\"\n",
    "    \n"
   ]
  },
  {
   "cell_type": "code",
   "execution_count": 34,
   "metadata": {
    "collapsed": false
   },
   "outputs": [
    {
     "ename": "NameError",
     "evalue": "name 'patient_lookup' is not defined",
     "output_type": "error",
     "traceback": [
      "\u001b[1;31m---------------------------------------------------------------------------\u001b[0m",
      "\u001b[1;31mNameError\u001b[0m                                 Traceback (most recent call last)",
      "\u001b[1;32m<ipython-input-34-439380ca3d49>\u001b[0m in \u001b[0;36m<module>\u001b[1;34m()\u001b[0m\n\u001b[0;32m      1\u001b[0m \u001b[1;31m# Call the class that creates an object\u001b[0m\u001b[1;33m\u001b[0m\u001b[1;33m\u001b[0m\u001b[0m\n\u001b[1;32m----> 2\u001b[1;33m \u001b[0mnew_patient\u001b[0m \u001b[1;33m=\u001b[0m \u001b[0mMediCare\u001b[0m\u001b[1;33m(\u001b[0m\u001b[1;34m\"Sinclair\"\u001b[0m\u001b[1;33m,\u001b[0m \u001b[1;36m35\u001b[0m\u001b[1;33m)\u001b[0m\u001b[1;33m\u001b[0m\u001b[0m\n\u001b[0m\u001b[0;32m      3\u001b[0m \u001b[0mold_patient\u001b[0m \u001b[1;33m=\u001b[0m \u001b[0mMediCare\u001b[0m\u001b[1;33m(\u001b[0m\u001b[1;34m\"Robertson\"\u001b[0m\u001b[1;33m,\u001b[0m \u001b[1;36m85\u001b[0m\u001b[1;33m)\u001b[0m\u001b[1;33m\u001b[0m\u001b[0m\n\u001b[0;32m      4\u001b[0m \u001b[1;33m\u001b[0m\u001b[0m\n\u001b[0;32m      5\u001b[0m \u001b[1;31m# Call the functiosn and the attributes\u001b[0m\u001b[1;33m\u001b[0m\u001b[1;33m\u001b[0m\u001b[0m\n",
      "\u001b[1;32m<ipython-input-33-04a434b07d85>\u001b[0m in \u001b[0;36m__init__\u001b[1;34m(self, lastname, temperature)\u001b[0m\n\u001b[0;32m     33\u001b[0m         \u001b[0mself\u001b[0m\u001b[1;33m.\u001b[0m\u001b[0mlastname\u001b[0m \u001b[1;33m=\u001b[0m \u001b[0mlastname\u001b[0m\u001b[1;33m\u001b[0m\u001b[0m\n\u001b[0;32m     34\u001b[0m         \u001b[0mself\u001b[0m\u001b[1;33m.\u001b[0m\u001b[0mtemperature\u001b[0m \u001b[1;33m=\u001b[0m \u001b[0mtemperature\u001b[0m\u001b[1;33m\u001b[0m\u001b[0m\n\u001b[1;32m---> 35\u001b[1;33m         \u001b[0mself\u001b[0m\u001b[1;33m.\u001b[0m\u001b[0mpatient_id\u001b[0m \u001b[1;33m=\u001b[0m \u001b[0mpatient_lookup\u001b[0m\u001b[1;33m(\u001b[0m\u001b[0mlastname\u001b[0m\u001b[1;33m)\u001b[0m\u001b[1;33m\u001b[0m\u001b[0m\n\u001b[0m\u001b[0;32m     36\u001b[0m \u001b[1;33m\u001b[0m\u001b[0m\n\u001b[0;32m     37\u001b[0m \u001b[1;33m\u001b[0m\u001b[0m\n",
      "\u001b[1;31mNameError\u001b[0m: name 'patient_lookup' is not defined"
     ]
    }
   ],
   "source": [
    "# Call the class that creates an object\n",
    "new_patient = MediCare(\"Sinclair\", 35)\n",
    "old_patient = MediCare(\"Robertson\", 85)\n",
    "\n",
    "# Call the functiosn and the attributes\n",
    "\n",
    "print(new_patient.temperature, old_patient.temperature)\n",
    "print(old_patient.lastname, new_patient.lastname)\n",
    "\n",
    "print(new_patient.patient_id, old_patient.patient_id)"
   ]
  },
  {
   "cell_type": "markdown",
   "metadata": {
    "collapsed": false
   },
   "source": [
    "### design a class to store the information of the patients visiting to the hospital., i.e. a class which stores name, address, phone number, male/female, prefix to the name. Also, how will you handle job in case of multiple phone numbers/addresses, multiple locations  (If a person is both at 12 PM in USA on a date, then that date is different from date in India), how will you handle the validations of these fields when the user enters the values."
   ]
  },
  {
   "cell_type": "code",
   "execution_count": 42,
   "metadata": {
    "collapsed": false
   },
   "outputs": [
    {
     "data": {
      "text/plain": [
       "{'address': '9999 Gotham City, las vegas',\n",
       " 'gender': 'male',\n",
       " 'name': 'Ben',\n",
       " 'phone': '702-000-0000',\n",
       " 'prefix': 'Waiter'}"
      ]
     },
     "execution_count": 42,
     "metadata": {},
     "output_type": "execute_result"
    }
   ],
   "source": [
    "class Person(object):\n",
    "    \"\"\" Capture demographics data\"\"\"\n",
    "    \n",
    "    \n",
    "    \n",
    "    def __init__(self, name, address, phone, gender, name_prefix):\n",
    "        \"\"\" Initialize the object \"\"\"\n",
    "#         userdata = {self.name = name}\n",
    "        self.name = name\n",
    "        self.address = address\n",
    "        self.phone = phone\n",
    "        self.gender = gender\n",
    "        self.prefix = name_prefix\n",
    "        \n",
    "\n",
    "    def userdata(self):\n",
    "        \"\"\" Returns user data\"\"\"\n",
    "        userdata = {'name':self.name, 'address': self.address, \n",
    "                    'phone': self.phone, 'gender': self.gender, 'prefix': self.prefix\n",
    "                   }\n",
    "        return userdata\n",
    "        \n",
    "\n",
    "newperson = Person(\"Ben\", '9999 Gotham City, las vegas', '702-000-0000', 'male', 'Waiter')\n",
    "\n",
    "newperson.userdata()\n",
    "\n",
    "newperson.__dict__\n"
   ]
  },
  {
   "cell_type": "code",
   "execution_count": 41,
   "metadata": {
    "collapsed": false
   },
   "outputs": [
    {
     "data": {
      "text/plain": [
       "{'address': '9999 Gotham City, las vegas',\n",
       " 'gender': 'male',\n",
       " 'name': 'Ben',\n",
       " 'phone': '702-000-0000',\n",
       " 'prefix': 'Waiter'}"
      ]
     },
     "execution_count": 41,
     "metadata": {},
     "output_type": "execute_result"
    }
   ],
   "source": [
    "newperson.__dict__"
   ]
  },
  {
   "cell_type": "code",
   "execution_count": 32,
   "metadata": {
    "collapsed": false
   },
   "outputs": [
    {
     "ename": "TypeError",
     "evalue": "userdata() missing 1 required positional argument: 'self'",
     "output_type": "error",
     "traceback": [
      "\u001b[1;31m---------------------------------------------------------------------------\u001b[0m",
      "\u001b[1;31mTypeError\u001b[0m                                 Traceback (most recent call last)",
      "\u001b[1;32m<ipython-input-32-a842dbe7bb04>\u001b[0m in \u001b[0;36m<module>\u001b[1;34m()\u001b[0m\n\u001b[1;32m----> 1\u001b[1;33m \u001b[0mnewperson\u001b[0m\u001b[1;33m.\u001b[0m\u001b[0muserdata\u001b[0m\u001b[1;33m(\u001b[0m\u001b[1;33m)\u001b[0m\u001b[1;33m\u001b[0m\u001b[0m\n\u001b[0m",
      "\u001b[1;31mTypeError\u001b[0m: userdata() missing 1 required positional argument: 'self'"
     ]
    }
   ],
   "source": []
  },
  {
   "cell_type": "code",
   "execution_count": null,
   "metadata": {
    "collapsed": true
   },
   "outputs": [],
   "source": []
  }
 ],
 "metadata": {
  "kernelspec": {
   "display_name": "Python 3",
   "language": "python",
   "name": "python3"
  },
  "language_info": {
   "codemirror_mode": {
    "name": "ipython",
    "version": 3
   },
   "file_extension": ".py",
   "mimetype": "text/x-python",
   "name": "python",
   "nbconvert_exporter": "python",
   "pygments_lexer": "ipython3",
   "version": "3.4.3"
  }
 },
 "nbformat": 4,
 "nbformat_minor": 0
}
