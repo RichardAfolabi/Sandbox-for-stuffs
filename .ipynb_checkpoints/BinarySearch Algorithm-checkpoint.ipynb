{
 "cells": [
  {
   "cell_type": "markdown",
   "metadata": {},
   "source": [
    "## Without Binary Search"
   ]
  },
  {
   "cell_type": "code",
   "execution_count": 6,
   "metadata": {
    "collapsed": false
   },
   "outputs": [
    {
     "name": "stdout",
     "output_type": "stream",
     "text": [
      "1024 0.00095367431640625\n",
      "2048 0.00095367431640625\n",
      "4096 0.00095367431640625\n",
      "8192 0.0\n",
      "16384 0.0\n",
      "32768 0.0\n",
      "65536 0.00095367431640625\n",
      "131072 0.0\n",
      "262144 0.0\n",
      "524288 0.00095367431640625\n",
      "1048576 0.0\n",
      "2097152 0.0\n",
      "4194304 0.0011920928955078125\n",
      "8388608 0.00095367431640625\n",
      "16777216 0.0\n",
      "33554432 0.0\n"
     ]
    }
   ],
   "source": [
    "from time import time\n",
    "\n",
    "def contains(collection, target):\n",
    "    \"\"\" Determines whether collection contains target \"\"\"\n",
    "    return target in collection\n",
    "\n",
    "\n",
    "def performance():\n",
    "    \"\"\" Demostrate execution performance of contains \"\"\"\n",
    "    n = 1024\n",
    "    \n",
    "    while n < 50000000:\n",
    "        sorted = range(n)\n",
    "        now = time()\n",
    "        \n",
    "        # Code whose performance is to be evaluated\n",
    "        # line below is worst case because '-1' \n",
    "        # cannot be in the collection generated.\n",
    "        \n",
    "        contains(sorted, -1)\n",
    "        \n",
    "        done = time()\n",
    "        print(n, (done-now)*1000)\n",
    "        n *= 2\n",
    "\n",
    "\n",
    "\n",
    "performance()"
   ]
  },
  {
   "cell_type": "markdown",
   "metadata": {},
   "source": [
    "## With Binary Search"
   ]
  },
  {
   "cell_type": "markdown",
   "metadata": {},
   "source": [
    "BS requires a single step for subsequent search. If the array does not change, orderedness is preserved. If the array is dynamic, then it may be necessary to use other search methods using e.g. Insert in Place method."
   ]
  },
  {
   "cell_type": "code",
   "execution_count": 25,
   "metadata": {
    "collapsed": false
   },
   "outputs": [
    {
     "name": "stdout",
     "output_type": "stream",
     "text": [
      "(1024, 0.0059604644775390625)\n",
      "(2048, 0.0069141387939453125)\n",
      "(4096, 0.012159347534179688)\n",
      "(8192, 0.010013580322265625)\n",
      "(16384, 0.1308917999267578)\n",
      "(32768, 0.03600120544433594)\n",
      "(65536, 0.025987625122070312)\n",
      "(131072, 0.030040740966796875)\n",
      "(262144, 0.031948089599609375)\n",
      "(524288, 0.033855438232421875)\n",
      "(1048576, 0.025033950805664062)\n",
      "(2097152, 0.029087066650390625)\n",
      "(4194304, 0.027894973754882812)\n",
      "(8388608, 0.031948089599609375)\n",
      "(16777216, 0.054836273193359375)\n",
      "(33554432, 0.03910064697265625)\n"
     ]
    }
   ],
   "source": [
    "\n",
    "\n",
    "def bin_search_contains(ordered, target):\n",
    "    \"\"\"User Binary search on oredered set\"\"\"\n",
    "    low = 0\n",
    "    high = len(ordered) - 1\n",
    "    while low <= high:\n",
    "        mid = (low + high) / 2\n",
    "        if target == ordered[mid]:\n",
    "            return True\n",
    "        elif target < ordered[mid]:\n",
    "            high = mid - 1\n",
    "        else:\n",
    "            low = mid + 1\n",
    "            \n",
    "    return False\n",
    "\n",
    "\n",
    "\n",
    "\n",
    "def performance():\n",
    "    \"\"\" Demostrate execution performance of contains \"\"\"\n",
    "    n = 1024\n",
    "    \n",
    "    while n < 50000000:\n",
    "        sorted = range(n)\n",
    "        now = time()\n",
    "        \n",
    "        # Code whose performance is to be evaluated\n",
    "        # line below is worst case because '-1' \n",
    "        # cannot be in the collection generated.\n",
    "        \n",
    "        # Change function to 'bin_search_contains'\n",
    "        bin_search_contains(sorted, -1)\n",
    "        \n",
    "        done = time()\n",
    "        print(n, (done-now)*1000)\n",
    "        n *= 2\n",
    "\n",
    "\n",
    "\n",
    "\n",
    "performance()\n"
   ]
  },
  {
   "cell_type": "markdown",
   "metadata": {},
   "source": [
    "## Insert in Place (Naive implementation)"
   ]
  },
  {
   "cell_type": "code",
   "execution_count": 26,
   "metadata": {
    "collapsed": false
   },
   "outputs": [
    {
     "name": "stdout",
     "output_type": "stream",
     "text": [
      "(1024, 0.051975250244140625)\n",
      "(2048, 0.030994415283203125)\n",
      "(4096, 0.07200241088867188)\n",
      "(8192, 0.15091896057128906)\n",
      "(16384, 0.4138946533203125)\n",
      "(32768, 1.3790130615234375)\n",
      "(65536, 3.1290054321289062)\n",
      "(131072, 3.543853759765625)\n",
      "(262144, 10.795116424560547)\n",
      "(524288, 21.192073822021484)\n",
      "(1048576, 28.725147247314453)\n",
      "(2097152, 50.03499984741211)\n",
      "(4194304, 147.49693870544434)\n",
      "(8388608, 484.421968460083)\n",
      "(16777216, 702.8679847717285)\n",
      "(33554432, 2351.922035217285)\n",
      "New element not added. As input doubles, runtime also doubles.\n"
     ]
    }
   ],
   "source": [
    "def insert_in_place(ordered, target):\n",
    "    \"\"\"Insert target into right location \"\"\"\n",
    "    for i in range(len(ordered)):\n",
    "        if target < ordered[i]:\n",
    "            ordered.insert(i, target)\n",
    "            return\n",
    "        \n",
    "    ordered.append(target)\n",
    "\n",
    "\n",
    "\n",
    "def performance():\n",
    "    \"\"\" Demostrate execution performance of contains \"\"\"\n",
    "    n = 1024\n",
    "    \n",
    "    while n < 50000000:\n",
    "        sorted = range(n)\n",
    "        now = time()\n",
    "        \n",
    "        # Code whose performance is to be evaluated\n",
    "        # line below is worst case because '-1' \n",
    "        # cannot be in the collection generated.\n",
    "        \n",
    "        # Change function to 'bin_search_contains'\n",
    "        insert_in_place(sorted, -1)\n",
    "        \n",
    "        done = time()\n",
    "        print(n, (done-now)*1000)\n",
    "        n *= 2\n",
    "\n",
    "\n",
    "\n",
    "performance()\n",
    "\n",
    "print(\"New element not added. As input doubles, runtime also doubles.\")\n"
   ]
  },
  {
   "cell_type": "markdown",
   "metadata": {},
   "source": [
    "## UsingBinary Array Search"
   ]
  },
  {
   "cell_type": "code",
   "execution_count": 7,
   "metadata": {
    "collapsed": false
   },
   "outputs": [
    {
     "ename": "NameError",
     "evalue": "name 'bs_contains' is not defined",
     "output_type": "error",
     "traceback": [
      "\u001b[0;31m---------------------------------------------------------------------------\u001b[0m",
      "\u001b[0;31mNameError\u001b[0m                                 Traceback (most recent call last)",
      "\u001b[0;32m<ipython-input-7-5f77e1d7098a>\u001b[0m in \u001b[0;36m<module>\u001b[0;34m()\u001b[0m\n\u001b[1;32m     49\u001b[0m \u001b[0;34m\u001b[0m\u001b[0m\n\u001b[1;32m     50\u001b[0m \u001b[0;34m\u001b[0m\u001b[0m\n\u001b[0;32m---> 51\u001b[0;31m \u001b[0mperformance\u001b[0m\u001b[0;34m(\u001b[0m\u001b[0;34m)\u001b[0m\u001b[0;34m\u001b[0m\u001b[0m\n\u001b[0m",
      "\u001b[0;32m<ipython-input-7-5f77e1d7098a>\u001b[0m in \u001b[0;36mperformance\u001b[0;34m()\u001b[0m\n\u001b[1;32m     41\u001b[0m \u001b[0;34m\u001b[0m\u001b[0m\n\u001b[1;32m     42\u001b[0m         \u001b[0;31m# Change function to 'bin_search_contains'\u001b[0m\u001b[0;34m\u001b[0m\u001b[0;34m\u001b[0m\u001b[0m\n\u001b[0;32m---> 43\u001b[0;31m         \u001b[0minsert_in_place\u001b[0m\u001b[0;34m(\u001b[0m\u001b[0msorted\u001b[0m\u001b[0;34m,\u001b[0m \u001b[0mn\u001b[0m\u001b[0;34m+\u001b[0m\u001b[0;36m1\u001b[0m\u001b[0;34m)\u001b[0m\u001b[0;34m\u001b[0m\u001b[0m\n\u001b[0m\u001b[1;32m     44\u001b[0m \u001b[0;34m\u001b[0m\u001b[0m\n\u001b[1;32m     45\u001b[0m         \u001b[0mdone\u001b[0m \u001b[0;34m=\u001b[0m \u001b[0mtime\u001b[0m\u001b[0;34m(\u001b[0m\u001b[0;34m)\u001b[0m\u001b[0;34m\u001b[0m\u001b[0m\n",
      "\u001b[0;32m<ipython-input-7-5f77e1d7098a>\u001b[0m in \u001b[0;36minsert_in_place\u001b[0;34m(ordered, target)\u001b[0m\n\u001b[1;32m     19\u001b[0m \u001b[0;32mdef\u001b[0m \u001b[0minsert_in_place\u001b[0m\u001b[0;34m(\u001b[0m\u001b[0mordered\u001b[0m\u001b[0;34m,\u001b[0m \u001b[0mtarget\u001b[0m\u001b[0;34m)\u001b[0m\u001b[0;34m:\u001b[0m\u001b[0;34m\u001b[0m\u001b[0m\n\u001b[1;32m     20\u001b[0m     \u001b[0;34m\"\"\"Insert target into right location \"\"\"\u001b[0m\u001b[0;34m\u001b[0m\u001b[0m\n\u001b[0;32m---> 21\u001b[0;31m     \u001b[0midx\u001b[0m \u001b[0;34m=\u001b[0m \u001b[0mbs_contains\u001b[0m\u001b[0;34m(\u001b[0m\u001b[0mordered\u001b[0m\u001b[0;34m,\u001b[0m \u001b[0mtarget\u001b[0m\u001b[0;34m)\u001b[0m\u001b[0;34m\u001b[0m\u001b[0m\n\u001b[0m\u001b[1;32m     22\u001b[0m     \u001b[0;32mif\u001b[0m \u001b[0midx\u001b[0m \u001b[0;34m<\u001b[0m \u001b[0;36m0\u001b[0m\u001b[0;34m:\u001b[0m\u001b[0;34m\u001b[0m\u001b[0m\n\u001b[1;32m     23\u001b[0m         \u001b[0mordered\u001b[0m\u001b[0;34m.\u001b[0m\u001b[0minsert\u001b[0m\u001b[0;34m(\u001b[0m\u001b[0;34m-\u001b[0m\u001b[0;34m(\u001b[0m\u001b[0midx\u001b[0m \u001b[0;34m+\u001b[0m \u001b[0;36m1\u001b[0m\u001b[0;34m)\u001b[0m\u001b[0;34m,\u001b[0m \u001b[0mtarget\u001b[0m\u001b[0;34m)\u001b[0m\u001b[0;34m\u001b[0m\u001b[0m\n",
      "\u001b[0;31mNameError\u001b[0m: name 'bs_contains' is not defined"
     ]
    }
   ],
   "source": [
    "\n",
    "\n",
    "def bin_search_contains(ordered, target):\n",
    "    \"\"\"User Binary search on oredered set\"\"\"\n",
    "    low = 0\n",
    "    high = len(ordered) - 1\n",
    "    while low <= high:\n",
    "        mid = (low + high) / 2\n",
    "        if target == ordered[mid]:\n",
    "            return mid\n",
    "        elif target < ordered[mid]:\n",
    "            high = mid - 1\n",
    "        else:\n",
    "            low = mid + 1   \n",
    "    return False\n",
    "\n",
    "\n",
    "\n",
    "def insert_in_place(ordered, target):\n",
    "    \"\"\"Insert target into right location \"\"\"\n",
    "    idx = bs_contains(ordered, target)\n",
    "    if idx < 0:\n",
    "        ordered.insert(-(idx + 1), target)\n",
    "        return\n",
    "    \n",
    "    ordered.insert(idx, target)\n",
    "    \n",
    "\n",
    "\n",
    "def performance():\n",
    "    \"\"\" Demostrate execution performance of contains \"\"\"\n",
    "    n = 1024\n",
    "    \n",
    "    while n < 50000000:\n",
    "        sorted = range(n)\n",
    "        now = time()\n",
    "        \n",
    "        # Code whose performance is to be evaluated\n",
    "        # line below is worst case because '-1' \n",
    "        # cannot be in the collection generated.\n",
    "        \n",
    "        # Change function to 'bin_search_contains'\n",
    "        insert_in_place(sorted, n+1)\n",
    "        \n",
    "        done = time()\n",
    "        print(n, (done-now)*1000)\n",
    "        n *= 2\n",
    "\n",
    "\n",
    "\n",
    "performance()"
   ]
  },
  {
   "cell_type": "markdown",
   "metadata": {
    "collapsed": true
   },
   "source": [
    "## Searching: Binary Search Trees\n"
   ]
  },
  {
   "cell_type": "code",
   "execution_count": 3,
   "metadata": {
    "collapsed": false
   },
   "outputs": [],
   "source": [
    "import random\n",
    "\n",
    "class BinaryNode:\n",
    "    \"\"\" Binary search \"\"\"\n",
    "    \n",
    "    def __init__(self, value = None):\n",
    "        \"\"\"Create empty binary trees \"\"\"\n",
    "        self.value = value\n",
    "        self.right = None\n",
    "        self.left = None\n",
    "        \n",
    "    def add(self, val):\n",
    "        \"\"\" Adds a new node to the binary tree \"\"\"\n",
    "        if val <= self.value:\n",
    "            if self.left:\n",
    "                self.left.add(val)\n",
    "            else:\n",
    "                self.left = BinaryNode(val)\n",
    "        else:\n",
    "            if self.right:\n",
    "                self.right.add(val)\n",
    "            else:\n",
    "                self.right = BinaryNode(val)\n",
    "                \n",
    "                \n",
    "        \n",
    "\n",
    "\n",
    "\n",
    "class BinaryTree:\n",
    "    \n",
    "    def __init__(self):\n",
    "        \"\"\" Create binary tree \"\"\"\n",
    "        self.root = None\n",
    "        \n",
    "    def add(self, value):\n",
    "        \"\"\" Insert element into binary tree \"\"\"\n",
    "        if self.root == None:\n",
    "            self.root = BinaryNode(value)\n",
    "        else:\n",
    "            self.root.add(value)\n",
    "            \n",
    "            \n",
    "    def contains(self, target):\n",
    "        \"\"\" checks whether BST contains target value \"\"\"\n",
    "        \n",
    "        node = self.root\n",
    "        while node:\n",
    "            if target == node.value:\n",
    "                return True\n",
    "            if target < node.value:\n",
    "                node = node.left\n",
    "            else:\n",
    "                node = node.right\n",
    "        return False\n",
    "    \n",
    "    \n",
    "\n",
    "def performance():\n",
    "    \"\"\" Demostrate execution performance of contains \"\"\"\n",
    "    n = 1024\n",
    "    \n",
    "    while n < 50000:\n",
    "        \n",
    "        bt = BinaryTree()\n",
    "        \n",
    "        for i in range(n):\n",
    "            bt.add(random.randint(1,n))\n",
    "            \n",
    "        now = time()\n",
    "        bt.contains(random.randint(1,n))\n",
    "        print(n, (time() - now) * 1000)\n",
    "\n"
   ]
  },
  {
   "cell_type": "code",
   "execution_count": 4,
   "metadata": {
    "collapsed": false
   },
   "outputs": [
    {
     "name": "stdout",
     "output_type": "stream",
     "text": [
      "False\n",
      "False\n"
     ]
    },
    {
     "ename": "NameError",
     "evalue": "name 'time' is not defined",
     "output_type": "error",
     "traceback": [
      "\u001b[0;31m---------------------------------------------------------------------------\u001b[0m",
      "\u001b[0;31mNameError\u001b[0m                                 Traceback (most recent call last)",
      "\u001b[0;32m<ipython-input-4-44c657d284a0>\u001b[0m in \u001b[0;36m<module>\u001b[0;34m()\u001b[0m\n\u001b[1;32m      5\u001b[0m \u001b[0mprint\u001b[0m\u001b[0;34m(\u001b[0m\u001b[0mbt\u001b[0m\u001b[0;34m.\u001b[0m\u001b[0mcontains\u001b[0m\u001b[0;34m(\u001b[0m\u001b[0;36m13\u001b[0m\u001b[0;34m)\u001b[0m\u001b[0;34m)\u001b[0m\u001b[0;34m\u001b[0m\u001b[0m\n\u001b[1;32m      6\u001b[0m \u001b[0;34m\u001b[0m\u001b[0m\n\u001b[0;32m----> 7\u001b[0;31m \u001b[0mperformance\u001b[0m\u001b[0;34m(\u001b[0m\u001b[0;34m)\u001b[0m\u001b[0;34m\u001b[0m\u001b[0m\n\u001b[0m",
      "\u001b[0;32m<ipython-input-3-e4757b9da2d1>\u001b[0m in \u001b[0;36mperformance\u001b[0;34m()\u001b[0m\n\u001b[1;32m     68\u001b[0m             \u001b[0mbt\u001b[0m\u001b[0;34m.\u001b[0m\u001b[0madd\u001b[0m\u001b[0;34m(\u001b[0m\u001b[0mrandom\u001b[0m\u001b[0;34m.\u001b[0m\u001b[0mrandint\u001b[0m\u001b[0;34m(\u001b[0m\u001b[0;36m1\u001b[0m\u001b[0;34m,\u001b[0m\u001b[0mn\u001b[0m\u001b[0;34m)\u001b[0m\u001b[0;34m)\u001b[0m\u001b[0;34m\u001b[0m\u001b[0m\n\u001b[1;32m     69\u001b[0m \u001b[0;34m\u001b[0m\u001b[0m\n\u001b[0;32m---> 70\u001b[0;31m         \u001b[0mnow\u001b[0m \u001b[0;34m=\u001b[0m \u001b[0mtime\u001b[0m\u001b[0;34m(\u001b[0m\u001b[0;34m)\u001b[0m\u001b[0;34m\u001b[0m\u001b[0m\n\u001b[0m\u001b[1;32m     71\u001b[0m         \u001b[0mbt\u001b[0m\u001b[0;34m.\u001b[0m\u001b[0mcontains\u001b[0m\u001b[0;34m(\u001b[0m\u001b[0mrandom\u001b[0m\u001b[0;34m.\u001b[0m\u001b[0mrandint\u001b[0m\u001b[0;34m(\u001b[0m\u001b[0;36m1\u001b[0m\u001b[0;34m,\u001b[0m\u001b[0mn\u001b[0m\u001b[0;34m)\u001b[0m\u001b[0;34m)\u001b[0m\u001b[0;34m\u001b[0m\u001b[0m\n\u001b[1;32m     72\u001b[0m         \u001b[0mprint\u001b[0m\u001b[0;34m(\u001b[0m\u001b[0mn\u001b[0m\u001b[0;34m,\u001b[0m \u001b[0;34m(\u001b[0m\u001b[0mtime\u001b[0m\u001b[0;34m(\u001b[0m\u001b[0;34m)\u001b[0m \u001b[0;34m-\u001b[0m \u001b[0mnow\u001b[0m\u001b[0;34m)\u001b[0m \u001b[0;34m*\u001b[0m \u001b[0;36m1000\u001b[0m\u001b[0;34m)\u001b[0m\u001b[0;34m\u001b[0m\u001b[0m\n",
      "\u001b[0;31mNameError\u001b[0m: name 'time' is not defined"
     ]
    }
   ],
   "source": [
    "bt = BinaryTree()\n",
    "bt.add(35)\n",
    "bt.add(4)\n",
    "print(bt.contains(5))\n",
    "print(bt.contains(13))\n",
    "\n",
    "performance()"
   ]
  },
  {
   "cell_type": "code",
   "execution_count": null,
   "metadata": {
    "collapsed": true
   },
   "outputs": [],
   "source": []
  }
 ],
 "metadata": {
  "kernelspec": {
   "display_name": "Python 3",
   "language": "python",
   "name": "python3"
  },
  "language_info": {
   "codemirror_mode": {
    "name": "ipython",
    "version": 3
   },
   "file_extension": ".py",
   "mimetype": "text/x-python",
   "name": "python",
   "nbconvert_exporter": "python",
   "pygments_lexer": "ipython3",
   "version": "3.4.3"
  }
 },
 "nbformat": 4,
 "nbformat_minor": 0
}
