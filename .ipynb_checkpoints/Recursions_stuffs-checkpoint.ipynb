{
 "cells": [
  {
   "cell_type": "markdown",
   "metadata": {},
   "source": [
    "# Recursion"
   ]
  },
  {
   "cell_type": "markdown",
   "metadata": {},
   "source": [
    "### Recursive algorithm that finds the size of directories and subdirectories given a path."
   ]
  },
  {
   "cell_type": "code",
   "execution_count": null,
   "metadata": {
    "collapsed": false
   },
   "outputs": [],
   "source": [
    "import os\n",
    "\n",
    "def disk_usage(path):\n",
    "    \"\"\" Return zise of file/folder in a directory \"\"\"\n",
    "\n",
    "    total = os.path.getsize(path)\n",
    "    if os.path.isdir(path):\n",
    "        for filename in os.listdir(path):\n",
    "            childpath = os.path.join(path, filename)\n",
    "            total += disk_usage(childpath)\n",
    "            \n",
    "    print('{0:<7}'.format(total), path)\n",
    "    return total\n",
    "\n",
    "\n",
    "# Call function with specific path\n",
    "disk_usage(\"/Users/\")"
   ]
  },
  {
   "cell_type": "markdown",
   "metadata": {
    "collapsed": true
   },
   "source": [
    "## Recursive algorithm to find the maximum element in a sequence of n elements"
   ]
  },
  {
   "cell_type": "markdown",
   "metadata": {},
   "source": [
    "If the sequence is ordered (or sorted), then it could be ascending or descending. If ascending, the $S[1]$ element is the maximum and if DESCending, the $S[n]$ elment is maxium. In both cases the runing time is $O(1)$ or $\\Omega(1)$ constant time. \n",
    "\n",
    "If the sequence is NOT ordered, then the maximum could be anywhere. The runing time in the worst case is $O(n)$"
   ]
  },
  {
   "cell_type": "markdown",
   "metadata": {},
   "source": [
    "### Non-recursive"
   ]
  },
  {
   "cell_type": "code",
   "execution_count": 19,
   "metadata": {
    "collapsed": false
   },
   "outputs": [
    {
     "data": {
      "text/plain": [
       "8"
      ]
     },
     "execution_count": 19,
     "metadata": {},
     "output_type": "execute_result"
    }
   ],
   "source": [
    "def find_maximus(S):\n",
    "    \"\"\" Linear search for maximum element\"\"\"\n",
    "    if len(S) < 1:\n",
    "        return \"Invalid input\"\n",
    "    elif len(S) == 1:\n",
    "        return S[len(S)-1]\n",
    "    else:\n",
    "        for k in range(len(S) - 1):\n",
    "            if S[k] > S[k-1]:\n",
    "                elmax = S[k]\n",
    "        return elmax\n",
    "\n",
    "\n",
    "indata = [4,2, 1, 4, 6, 8, 0]\n",
    "find_maximus(indata)"
   ]
  },
  {
   "cell_type": "markdown",
   "metadata": {},
   "source": [
    "### Recursive"
   ]
  },
  {
   "cell_type": "code",
   "execution_count": 2,
   "metadata": {
    "collapsed": false
   },
   "outputs": [],
   "source": [
    "def binary_find_maximum(S, start, stop):\n",
    "    \"\"\" Find maximum element in a sequence of n-elements.\n",
    "    We use Binary recursion. Find the max(max(half_1), max(half_2)) \"\"\"\n",
    "    # when no element exist in the sequence\n",
    "    if start > stop:\n",
    "        return 0\n",
    "    #when only 1 element exist in the sequence\n",
    "    elif start == stop:\n",
    "        return S[start]\n",
    "    #There are at least two elements in the sequence\n",
    "    else:\n",
    "        mid = (start + stop) // 2\n",
    "        if binary_find_maximum(S, start, mid) > binary_find_maximum(S, mid, stop):\n",
    "            return binary_find_maximum(S, start, mid)\n",
    "        else:\n",
    "            return binary_find_maximum(S, mid, stop)\n",
    "    \n",
    "\n",
    "indata = [4,2, 1, 4, 6, 8, 0]\n",
    "binary_find_maximum(indata, 0, len(indata)-1)"
   ]
  },
  {
   "cell_type": "code",
   "execution_count": null,
   "metadata": {
    "collapsed": true
   },
   "outputs": [],
   "source": []
  }
 ],
 "metadata": {
  "kernelspec": {
   "display_name": "Python 3",
   "language": "python",
   "name": "python3"
  },
  "language_info": {
   "codemirror_mode": {
    "name": "ipython",
    "version": 3
   },
   "file_extension": ".py",
   "mimetype": "text/x-python",
   "name": "python",
   "nbconvert_exporter": "python",
   "pygments_lexer": "ipython3",
   "version": "3.4.3"
  }
 },
 "nbformat": 4,
 "nbformat_minor": 0
}
