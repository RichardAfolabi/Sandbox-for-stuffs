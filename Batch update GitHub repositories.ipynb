{
 "cells": [
  {
   "cell_type": "code",
   "execution_count": 9,
   "metadata": {
    "collapsed": false
   },
   "outputs": [
    {
     "data": {
      "text/html": [
       "<style>\n",
       "\n",
       "html {\n",
       "  font-size: 62.5% !important; }\n",
       "body {\n",
       "  font-size: 1.5em !important; /* currently ems cause chrome bug misinterpreting rems on body element */\n",
       "  line-height: 1.6 !important;\n",
       "  font-weight: 400 !important;\n",
       "  font-family: \"Raleway\", \"HelveticaNeue\", \"Helvetica Neue\", Helvetica, Arial, sans-serif !important;\n",
       "  color: #222 !important; }\n",
       "\n",
       "div{ border-radius: 0px !important;  }\n",
       "div.CodeMirror-sizer{ background: rgb(244, 244, 248) !important; }\n",
       "div.input_area{ background: rgb(244, 244, 248) !important; }\n",
       "\n",
       "div.out_prompt_overlay:hover{ background: rgb(244, 244, 248) !important; }\n",
       "div.input_prompt:hover{ background: rgb(244, 244, 248) !important; }\n",
       "\n",
       "h1, h2, h3, h4, h5, h6 {\n",
       "  color: #333 !important;\n",
       "  margin-top: 0 !important;\n",
       "  margin-bottom: 2rem !important;\n",
       "  font-weight: 300 !important; }\n",
       "h1 { font-size: 4.0rem !important; line-height: 1.2 !important;  letter-spacing: -.1rem !important;}\n",
       "h2 { font-size: 3.6rem !important; line-height: 1.25 !important; letter-spacing: -.1rem !important; }\n",
       "h3 { font-size: 3.0rem !important; line-height: 1.3 !important;  letter-spacing: -.1rem !important; }\n",
       "h4 { font-size: 2.4rem !important; line-height: 1.35 !important; letter-spacing: -.08rem !important; }\n",
       "h5 { font-size: 1.8rem !important; line-height: 1.5 !important;  letter-spacing: -.05rem !important; }\n",
       "h6 { font-size: 1.5rem !important; line-height: 1.6 !important;  letter-spacing: 0 !important; }\n",
       "\n",
       "@media (min-width: 550px) {\n",
       "  h1 { font-size: 5.0rem !important; }\n",
       "  h2 { font-size: 4.2rem !important; }\n",
       "  h3 { font-size: 3.6rem !important; }\n",
       "  h4 { font-size: 3.0rem !important; }\n",
       "  h5 { font-size: 2.4rem !important; }\n",
       "  h6 { font-size: 1.5rem !important; }\n",
       "}\n",
       "\n",
       "p {\n",
       "  margin-top: 0 !important; }\n",
       "  \n",
       "a {\n",
       "  color: #1EAEDB !important; }\n",
       "a:hover {\n",
       "  color: #0FA0CE !important; }\n",
       "  \n",
       "code {\n",
       "  padding: .2rem .5rem !important;\n",
       "  margin: 0 .2rem !important;\n",
       "  font-size: 90% !important;\n",
       "  white-space: nowrap !important;\n",
       "  background: #F1F1F1 !important;\n",
       "  border: 1px solid #E1E1E1 !important;\n",
       "  border-radius: 4px !important; }\n",
       "pre > code {\n",
       "  display: block !important;\n",
       "  padding: 1rem 1.5rem !important;\n",
       "  white-space: pre !important; }\n",
       "  \n",
       "button{ border-radius: 0px !important; }\n",
       ".navbar-inner{ background-image: none !important;  }\n",
       "select, textarea{ border-radius: 0px !important; }\n",
       "\n",
       "</style>"
      ],
      "text/plain": [
       "<IPython.core.display.HTML object>"
      ]
     },
     "execution_count": 9,
     "metadata": {},
     "output_type": "execute_result"
    }
   ],
   "source": [
    "\n",
    "import requests\n",
    "from IPython.core.display import HTML\n",
    "\n",
    "r = requests.get('http://bit.ly/1Bf5Hft').text\n",
    "HTML(r)"
   ]
  },
  {
   "cell_type": "markdown",
   "metadata": {},
   "source": [
    "# Automatically update GitHub repository everyday"
   ]
  },
  {
   "cell_type": "markdown",
   "metadata": {},
   "source": [
    "Make sure to drop this `update_github.py` file in the parent directory containing all your `GitHub` repository. It doesn't have to be a repository itself. It's designed to read a folder/directory containing several other local repos.\n",
    "\n",
    "# Download the complete file as `update_github.py`"
   ]
  },
  {
   "cell_type": "code",
   "execution_count": 1,
   "metadata": {
    "collapsed": false
   },
   "outputs": [
    {
     "name": "stdout",
     "output_type": "stream",
     "text": [
      "\n",
      "GitHub folders :\n",
      "\n",
      " ['Data-Structures-Algorithms-in-Python', 'Data_Analysis_with_Python', 'Data_Science_Harvard', 'DataVisualization', 'Machine_Learning_Python', 'Mining_Social_Network_Data', 'oreilly-intro-to-flask-video', 'Presentation_js', 'python-web-scraping', 'Sandbox-for-stuffs', 'Scientific-Python', 'Templates', 'turaquo']\n"
     ]
    }
   ],
   "source": [
    "import os\n",
    "\n",
    "my_github_folders = []\n",
    "\n",
    "# Get directory and list paths of folders in the directory\n",
    "parent_path = os.path.dirname(os.getcwd())        \n",
    "all_folders = os.listdir(parent_path)\n",
    "\n",
    "# Pick out repos out all the folders in my directory\n",
    "for test_path in all_folders:\n",
    "    git_folder = os.path.join(parent_path, test_path, \".git\")\n",
    "    if os.path.isdir(git_folder):\n",
    "        my_github_folders.append(test_path)\n",
    "\n",
    "# Print out the repos\n",
    "print(\"\\nGitHub folders :\\n\\n\",my_github_folders)\n",
    "\n"
   ]
  },
  {
   "cell_type": "markdown",
   "metadata": {
    "collapsed": false
   },
   "source": [
    "* The list above coresponds to the list of my local and remote repositories. \n",
    "\n",
    "* Compare the list with the repos in my remote: https://github.com/RichardAfolabi?tab=repositories"
   ]
  },
  {
   "cell_type": "code",
   "execution_count": null,
   "metadata": {
    "collapsed": true
   },
   "outputs": [],
   "source": []
  },
  {
   "cell_type": "markdown",
   "metadata": {},
   "source": [
    "# Let's bulk update our repository"
   ]
  },
  {
   "cell_type": "code",
   "execution_count": null,
   "metadata": {
    "collapsed": false
   },
   "outputs": [],
   "source": [
    "# Let's count numbers of repository we updated\n",
    "repos_updated = 0\n",
    "\n",
    "# GIT commands to execute in sequence\n",
    "gt_add = \"git add .\"\n",
    "gt_commit = \"git commit -m 'updated' \"\n",
    "gt_push = \"git push -u origin master\"\n",
    "\n",
    "# Loop over the local repos and Push git updates. Count updated repos.\n",
    "for repo in my_github_folders:\n",
    "    repo_path = os.path.join(parent_path, repo)\n",
    "    git_sequence = \"cd {0} && {1} && {2} && {3}\".format(repo_path, gt_add, gt_commit, gt_push)\n",
    "    if os.system(git_sequence) == 0:\n",
    "        repos_updated += 1\n",
    "\n",
    "print(\"\\n\\n {0} of {1} repos updated successfully!\\n\\n\".format(repos_updated, len(my_github_folders)))"
   ]
  },
  {
   "cell_type": "markdown",
   "metadata": {},
   "source": [
    "## Almost Finished!"
   ]
  },
  {
   "cell_type": "markdown",
   "metadata": {},
   "source": [
    "There you have it. We have successfully created a script that we run once and it automatically update our local and remote repositories!\n",
    "\n",
    "Now, if you're like me, you'll be thinking, how can I possibly fully automate this process and `schedule` the script as a `job` that runs by itself multiple times everyday?\n",
    "\n",
    "Yes!, you're right!\n",
    "\n",
    "That's what I've done on the next script below. There are two recommended `Python Cronjob tools` I know:\n",
    "\n",
    "\n",
    "1. **Plan Job**        | http://plan.readthedocs.org/index.html\n",
    "2. **Python-Crontab**  | https://pypi.python.org/pypi/python-crontab\n"
   ]
  },
  {
   "cell_type": "markdown",
   "metadata": {},
   "source": [
    "# `Cron` job to automatically `update local repo`, `commit` and `push` to `remote` \n",
    "\n",
    "Here, we use a Python package called **`Plan`**\n",
    "\n",
    "Note that you first have to install the package..."
   ]
  },
  {
   "cell_type": "code",
   "execution_count": 8,
   "metadata": {
    "collapsed": false
   },
   "outputs": [
    {
     "name": "stdout",
     "output_type": "stream",
     "text": [
      "Collecting plan\n",
      "  Using cached plan-0.5-py2.py3-none-any.whl\n",
      "Collecting click>=2.1 (from plan)\n",
      "  Using cached click-6.2-py2.py3-none-any.whl\n",
      "Installing collected packages: click, plan\n",
      "Successfully installed click-6.2 plan-0.5\n"
     ]
    }
   ],
   "source": [
    "# Run this cell to install the required python package.\n",
    "! pip install plan"
   ]
  },
  {
   "cell_type": "markdown",
   "metadata": {},
   "source": [
    "# Save code below as `cronjob.py`\n",
    "\n",
    "### Configure a python `cron` job that automatically runs our `update_github.py` script every `4 hours`. \n",
    "\n",
    "This means about `6 times` in `24 hours` which I think is sufficient to turn your `GitHub` heatmap to `Green`!"
   ]
  },
  {
   "cell_type": "code",
   "execution_count": 55,
   "metadata": {
    "collapsed": false
   },
   "outputs": [
    {
     "name": "stdout",
     "output_type": "stream",
     "text": [
      "[write] crontab file written\n"
     ]
    }
   ],
   "source": [
    "import os\n",
    "from plan import Plan\n",
    "\n",
    "cron = Plan()         # Create a Plan object\n",
    "\n",
    "# Change path to the location of the script to run.\n",
    "job_path = os.path.dirname(os.getcwd())\n",
    "\n",
    "# Change into parent_path defined above and run the `update_github.py` script every 3hours.\n",
    "cron.script('update_mygithub.py', path=job_path, every='4.hour')\n",
    "\n",
    "\n",
    "if __name__ == '__main__':\n",
    "    cron.run('write')\n"
   ]
  },
  {
   "cell_type": "markdown",
   "metadata": {
    "collapsed": true
   },
   "source": [
    "##### If you are using `Anaconda` Python distribution, behaviour of your `cron` job is determined by how you install your `anaconda`. \n",
    "\n",
    "##### For some reason (I found out by accident and hours of tinkering), your `update_github.py` may run correctly with `python update_github.py` but when called in the `cron`, the python script is not called correctly. \n",
    "\n"
   ]
  },
  {
   "cell_type": "code",
   "execution_count": 6,
   "metadata": {
    "collapsed": true
   },
   "outputs": [],
   "source": [
    "import pandas as pd\n",
    "import seaborn as sns\n",
    "df = pd.DataFrame()"
   ]
  },
  {
   "cell_type": "code",
   "execution_count": 7,
   "metadata": {
    "collapsed": true
   },
   "outputs": [],
   "source": [
    "sns.barplot?"
   ]
  },
  {
   "cell_type": "code",
   "execution_count": null,
   "metadata": {
    "collapsed": true
   },
   "outputs": [],
   "source": []
  }
 ],
 "metadata": {
  "kernelspec": {
   "display_name": "Python 3",
   "language": "python",
   "name": "python3"
  },
  "language_info": {
   "codemirror_mode": {
    "name": "ipython",
    "version": 3
   },
   "file_extension": ".py",
   "mimetype": "text/x-python",
   "name": "python",
   "nbconvert_exporter": "python",
   "pygments_lexer": "ipython3",
   "version": "3.5.1"
  }
 },
 "nbformat": 4,
 "nbformat_minor": 0
}
