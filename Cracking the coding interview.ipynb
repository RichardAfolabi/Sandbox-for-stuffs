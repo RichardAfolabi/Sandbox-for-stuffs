{
 "cells": [
  {
   "cell_type": "markdown",
   "metadata": {},
   "source": [
    "# Cracking the Coding Interview"
   ]
  },
  {
   "cell_type": "markdown",
   "metadata": {},
   "source": [
    "### Problems"
   ]
  },
  {
   "cell_type": "markdown",
   "metadata": {},
   "source": [
    "Design an algorithm to sort a list. List is an array (not linked list). List contains Numbers (not characters, or string). Numbers are integers (not float). The integer numbers are Age of clients. The customers database or list could grow up to 1Million members.\n"
   ]
  },
  {
   "cell_type": "markdown",
   "metadata": {},
   "source": [
    "### Solutions"
   ]
  },
  {
   "cell_type": "markdown",
   "metadata": {},
   "source": [
    "Given a sorted (ascending) but rotated array how do you find the pivot ? [32, 48, 55, 2, 7] and [4, 5, 6, 7, 0, 1, 2]. \n",
    "\n",
    "The pivot point is also the Minimum element."
   ]
  },
  {
   "cell_type": "markdown",
   "metadata": {},
   "source": [
    "## Using Linear Search - O(n)"
   ]
  },
  {
   "cell_type": "code",
   "execution_count": 16,
   "metadata": {
    "collapsed": false
   },
   "outputs": [
    {
     "name": "stdout",
     "output_type": "stream",
     "text": [
      "\n",
      "\n",
      " Pivot point is index 3 with value 6 \n",
      "\n",
      "\n",
      "\n",
      " Pivot point is index 7 with value 1 \n",
      "\n"
     ]
    }
   ],
   "source": [
    "numberlist = [4, 5, 43, 6, 7, 9, 10, 1, 2]\n",
    "\n",
    "for item in range(len(numberlist)-1):\n",
    "    if numberlist[item] > numberlist[item+1]:\n",
    "        print(\"\\n\\n Pivot point is index %s with value %s \\n\" %(item+1, numberlist[item+1]))\n",
    "        "
   ]
  },
  {
   "cell_type": "markdown",
   "metadata": {},
   "source": [
    "## Using Binary Search  -  O(log n)"
   ]
  },
  {
   "cell_type": "code",
   "execution_count": 8,
   "metadata": {
    "collapsed": false
   },
   "outputs": [
    {
     "name": "stdout",
     "output_type": "stream",
     "text": [
      "\n",
      "\n",
      " Pivot found @ index 6 with value 1 \n",
      "\n"
     ]
    }
   ],
   "source": [
    "numberlist = [4, 5, 6, 7, 9, 10, 1, 2]\n",
    "\n",
    "\n",
    "#     else:\n",
    "#         print(\" Pivot found! \\n Pivot point is index %s with value %s\" %(midpt+1, numberlist[midpt+1]))\n",
    "\n",
    "\n",
    "def find_pivot(alist):\n",
    "    \n",
    "    low = 0\n",
    "    high = len(numberlist) - 1\n",
    "    \n",
    "    while low <= high:\n",
    "        midpt = (low + high) // 2\n",
    "        if numberlist[midpt] < numberlist[midpt + 1]:\n",
    "            low = midpt + 1\n",
    "            continue\n",
    "        else:\n",
    "            return print (\"\\n\\n Pivot found @ index %s with value %s \\n\" %(midpt+1, numberlist[midpt+1]))\n",
    "\n",
    "    \n",
    "find_pivot(numberlist)"
   ]
  },
  {
   "cell_type": "code",
   "execution_count": 24,
   "metadata": {
    "collapsed": false
   },
   "outputs": [
    {
     "name": "stdout",
     "output_type": "stream",
     "text": [
      "Item NOT found!\n"
     ]
    }
   ],
   "source": [
    "numberlist = [4, 5, 43, 6, 7, 9, 10, 1, 2]\n",
    "\n",
    "target = 29\n",
    "\n",
    "for item in numberlist:\n",
    "    if item == target:\n",
    "        print(\"item found!\")\n",
    "    \n",
    "    \n",
    "for k in range(len(numberlist)):\n",
    "    if numberlist[k] == target:\n",
    "        print(\"Item found\")\n",
    "        break\n",
    "    if k == len(numberlist)-1:\n",
    "        print(\"Item NOT found!\")\n"
   ]
  },
  {
   "cell_type": "markdown",
   "metadata": {
    "collapsed": true
   },
   "source": [
    "## Recursive Binary Search"
   ]
  },
  {
   "cell_type": "code",
   "execution_count": 1,
   "metadata": {
    "collapsed": false
   },
   "outputs": [
    {
     "name": "stdout",
     "output_type": "stream",
     "text": [
      "Target found at index 6\n"
     ]
    }
   ],
   "source": [
    "\n",
    "def recursive_binary_search(indata, dtarget, dmin, dmax):\n",
    "    \"\"\" Recursive Binary Search \"\"\"\n",
    "    \n",
    "    if dmin > dmax:\n",
    "        return \"Target not found.\"\n",
    "    else:\n",
    "        midpoint = (dmin + dmax) // 2\n",
    "        if indata[midpoint] < dtarget:\n",
    "            # Target may exist in the upper portion of the list.\n",
    "            recursive_binary_search(indata, dtarget, midpoint + 1, dmax)\n",
    "        elif indata[midpoint] > dtarget:\n",
    "            #    Target may exist in the lower portion of the list.\n",
    "            recursive_binary_search(indata, dtarget, dmin, midpoint - 1)\n",
    "        else:\n",
    "            print(\"Target found at index %s\" % midpoint)\n",
    "    return \n",
    "\n",
    "\n",
    "numberlist = [4, 5, 43, 6, 7, 9, 10, 1, 2]\n",
    "\n",
    "target = 10\n",
    "\n",
    "recursive_binary_search(numberlist, target, 0, len(numberlist)-1)\n"
   ]
  },
  {
   "cell_type": "markdown",
   "metadata": {},
   "source": [
    "## Bubble Sort : n (n-1) which gives O(n^2)"
   ]
  },
  {
   "cell_type": "code",
   "execution_count": 13,
   "metadata": {
    "collapsed": false
   },
   "outputs": [
    {
     "data": {
      "text/plain": [
       "[2, 4, 5, 9, 10, 11, 13, 22, 43]"
      ]
     },
     "execution_count": 13,
     "metadata": {},
     "output_type": "execute_result"
    }
   ],
   "source": [
    "numberlist = [13, 22, 9, 5, 11, 43, 10, 4, 2]\n",
    "\n",
    "def bubble_sort(indata):\n",
    "    \"\"\" Takes an unsorted list and outputs a sorted version in ascending order \"\"\"\n",
    "    \n",
    "    for k in range(len(indata) -1):\n",
    "        for j in range(len(indata)-2, k-1, -1):\n",
    "            if indata[j] > indata[j+1]:\n",
    "                temp = indata[j]\n",
    "                indata[j] = indata[j+1]\n",
    "                indata[j+1] = temp\n",
    "    return indata \n",
    "\n",
    "\n",
    "bubble_sort(numberlist)"
   ]
  },
  {
   "cell_type": "code",
   "execution_count": null,
   "metadata": {
    "collapsed": true
   },
   "outputs": [],
   "source": []
  }
 ],
 "metadata": {
  "celltoolbar": "Raw Cell Format",
  "kernelspec": {
   "display_name": "Python 3",
   "language": "python",
   "name": "python3"
  },
  "language_info": {
   "codemirror_mode": {
    "name": "ipython",
    "version": 3
   },
   "file_extension": ".py",
   "mimetype": "text/x-python",
   "name": "python",
   "nbconvert_exporter": "python",
   "pygments_lexer": "ipython3",
   "version": "3.4.3"
  }
 },
 "nbformat": 4,
 "nbformat_minor": 0
}
