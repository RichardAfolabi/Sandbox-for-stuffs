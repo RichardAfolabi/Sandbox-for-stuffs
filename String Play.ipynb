{
 "cells": [
  {
   "cell_type": "markdown",
   "metadata": {},
   "source": [
    "# String Plays"
   ]
  },
  {
   "cell_type": "markdown",
   "metadata": {},
   "source": [
    "### Write a method to replace all spaces in a string with ‘%20’."
   ]
  },
  {
   "cell_type": "code",
   "execution_count": 19,
   "metadata": {
    "collapsed": false
   },
   "outputs": [
    {
     "name": "stdout",
     "output_type": "stream",
     "text": [
      "Replaces%20all%20blank%20spaces%20with%20ACSII%20equivalent\n",
      "\n",
      "거래내역에%20대한%20전자서명을%20위한%20보안%20프로그램입니다.\n"
     ]
    }
   ],
   "source": [
    "def space_replacer(sentence):\n",
    "    \"\"\" Replaces all blank spaces with ACSII equivalent \"\"\"\n",
    "    \n",
    "    new_sentence = []\n",
    "    \n",
    "    for e in sentence:\n",
    "        if e == ' ':\n",
    "            new_sentence.append('%20')\n",
    "        else:\n",
    "            new_sentence.append(e)\n",
    "            \n",
    "    return ('').join(new_sentence)\n",
    "\n",
    "\n",
    "\n",
    "print(space_replacer(\"Replaces all blank spaces with ACSII equivalent\"))\n",
    "\n",
    "print()\n",
    "print(space_replacer(\"거래내역에 대한 전자서명을 위한 보안 프로그램입니다.\"))\n"
   ]
  },
  {
   "cell_type": "markdown",
   "metadata": {},
   "source": [
    "### Implement an algorithm to determine if a string has all unique characters. What if you can not use additional data structures?"
   ]
  },
  {
   "cell_type": "code",
   "execution_count": 1,
   "metadata": {
    "collapsed": false
   },
   "outputs": [
    {
     "name": "stdout",
     "output_type": "stream",
     "text": [
      "{'n': 2, 'e': 3, 't': 1, 's': 2, 'c': 1}\n"
     ]
    },
    {
     "data": {
      "text/plain": [
       "'sentence does not contain unique xters!'"
      ]
     },
     "execution_count": 1,
     "metadata": {},
     "output_type": "execute_result"
    }
   ],
   "source": [
    "\n",
    "def uniquefinder(xword):\n",
    "    \"\"\" Determines if a phrase contains unique xter.\"\"\"\n",
    "    \n",
    "    xdict = {}\n",
    "    # Count the number of occurence of each word.\n",
    "    for e in xword:\n",
    "        xdict[e] = xword.count(e)\n",
    "    print(xdict)\n",
    "    \n",
    "    for k in xdict:\n",
    "        if xdict[k] > 1:\n",
    "            return \"sentence does not contain unique xters!\"\n",
    "\n",
    "        \n",
    "uniquefinder(\"sentences\")\n"
   ]
  },
  {
   "cell_type": "markdown",
   "metadata": {},
   "source": [
    "### Find keywords in sentences according to their density or frequency of occurence."
   ]
  },
  {
   "cell_type": "code",
   "execution_count": 140,
   "metadata": {
    "collapsed": false
   },
   "outputs": [
    {
     "data": {
      "text/plain": [
       "[('work', 3),\n",
       " ('work.', 1),\n",
       " ('highly', 1),\n",
       " ('known', 1),\n",
       " ('analytical', 1),\n",
       " ('life', 1),\n",
       " ('Always', 1),\n",
       " ('work/social', 1),\n",
       " ('abilities', 1),\n",
       " ('Privileged', 1),\n",
       " ('inspiration', 1),\n",
       " ('me', 1),\n",
       " ('driven', 1),\n",
       " ('His', 1),\n",
       " ('colleague', 1),\n",
       " ('problem', 1),\n",
       " ('through', 1),\n",
       " ('pleasure', 1),\n",
       " ('many', 1),\n",
       " ('friend', 1),\n",
       " ('example', 1),\n",
       " ('intelligence,', 1),\n",
       " ('shine', 1),\n",
       " ('aspects', 1),\n",
       " ('been', 1),\n",
       " ('motivated', 1),\n",
       " ('Richard', 1),\n",
       " ('solving', 1),\n",
       " ('years,', 1),\n",
       " ('team', 1),\n",
       " ('both', 1),\n",
       " ('his', 1),\n",
       " ('balance', 1),\n",
       " ('excel', 1),\n",
       " ('areas.', 1),\n",
       " ('consistently', 1),\n",
       " ('leader.', 1),\n",
       " ('player', 1),\n",
       " ('all', 1),\n",
       " ('around', 1),\n",
       " ('has', 1)]"
      ]
     },
     "execution_count": 140,
     "metadata": {},
     "output_type": "execute_result"
    }
   ],
   "source": [
    "import operator\n",
    "\n",
    "def frequency_finder(xword):\n",
    "    \"\"\" Determines if a phrase contains unique xter.\"\"\"\n",
    "    \n",
    "    xprepositions = sorted(['in', 'on', 'and', 'with', 'i', 'we', 'my', 'to','a','at','-','is','he','the', \n",
    "                    'as', 'how', 'am', 'an', 'from','for', 'of', 'can', 'by','&', 'c', 'also','have','while','manage',\n",
    "                    'be', 'are', 'not', 'him', 'her'])\n",
    "    \n",
    "    # Count the number of occurence of each word.\n",
    "    \n",
    "    list_word = { wrd:xword.count(wrd) for wrd in xword.split() }\n",
    "    \n",
    "    new_words = {phrase:list_word[phrase] for phrase in list_word if phrase.lower() not in xprepositions}\n",
    "        \n",
    "    freq_list = sorted(new_words.items(), key=operator.itemgetter(1), reverse=True)\n",
    "\n",
    "    return freq_list\n",
    "\n",
    "\n",
    "frequency_finder(input_data)\n",
    "\n"
   ]
  },
  {
   "cell_type": "code",
   "execution_count": 138,
   "metadata": {
    "collapsed": true
   },
   "outputs": [],
   "source": [
    "input_data = \"\"\"\n",
    "\n",
    "Richard is a highly driven and motivated team player and leader. His intelligence, analytical and problem solving abilities consistently shine through in all aspects of his work. Privileged to have known him as a colleague and friend for many years, he has been an inspiration to me and an example on how to balance work/social life and excel in both areas. Always a pleasure to work with and be around\n",
    "\n",
    "\"\"\"\n"
   ]
  },
  {
   "cell_type": "code",
   "execution_count": null,
   "metadata": {
    "collapsed": true
   },
   "outputs": [],
   "source": []
  }
 ],
 "metadata": {
  "kernelspec": {
   "display_name": "Python 3",
   "language": "python",
   "name": "python3"
  },
  "language_info": {
   "codemirror_mode": {
    "name": "ipython",
    "version": 3
   },
   "file_extension": ".py",
   "mimetype": "text/x-python",
   "name": "python",
   "nbconvert_exporter": "python",
   "pygments_lexer": "ipython3",
   "version": "3.4.3"
  }
 },
 "nbformat": 4,
 "nbformat_minor": 0
}
